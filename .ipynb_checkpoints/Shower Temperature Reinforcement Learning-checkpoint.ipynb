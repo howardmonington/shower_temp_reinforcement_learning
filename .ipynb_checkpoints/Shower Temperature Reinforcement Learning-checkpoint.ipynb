{
 "cells": [
  {
   "cell_type": "markdown",
   "metadata": {},
   "source": [
    "# Reinforcement Learning to Regulate Shower Temperature\n",
    "One of the problems in my current apartment is that the shower temperature fluctuates frequently. Especially if someone flushes the toilet. In this project, I wanted to simulate the fluctuating shower environment and see if I could build a reinforcement learning model with TensorFlow in order to keep the temperature within the desired range.\n",
    "\n",
    "Although both supervised and reinforcement learning use mapping between input and output, reinforcement learning uses rewards and punishments as signals for positive and negative behavior. The goal in reinforcement learning is to find a suitable action model that would maximize the total cumulative reward of the agent."
   ]
  },
  {
   "cell_type": "code",
   "execution_count": 1,
   "metadata": {},
   "outputs": [],
   "source": [
    "from gym import Env # allows me to build a custom environment\n",
    "from gym.spaces import Discrete, Box # allows me to define the actions to take in the environment and current state\n",
    "import numpy as np\n",
    "import random"
   ]
  },
  {
   "cell_type": "markdown",
   "metadata": {},
   "source": [
    "The 5 important pieces that are needed in every reinforcment learning model are: environment, state, reward, policy, and value. The environment is the physical world within which the agent operates. The state is the current situation of the agent. The reward is feedback from the environment. The policy is a method to map the agent's state to actions. Value is the future reward that an agent would receive by taking an action in a particular state.\n",
    "\n",
    "In this project, the initializing actions consist of setting up an action space (which defines 5 actions that the RL model can take), an oberservation space (which defines the bounds of the shower temperature), the current state (defining the current temperature of the shower), and the shower_length (which defines how long each shower is).\n",
    "\n",
    "The RL model receives a positive reward when it keeps the shower temperature within the specified range (between 87 to 93 degrees fahrenheit) and a negative reward if it does not keep the shower temperature within the specified range. The policy of the model is that the shower's temperature changes by the RL model's action - 2. So if the model chooses action 4, then the temperature is increased by 4-2 = 2. If the model chooses action 2, then the temperature stays the same (2 - 2 = 0)."
   ]
  },
  {
   "cell_type": "code",
   "execution_count": 3,
   "metadata": {},
   "outputs": [],
   "source": [
    "class ShowerEnv(Env):\n",
    "    def __init__(self):\n",
    "        # first initialization function that gets run automatically when I create a new instance of my function\n",
    "        # initializing actions I can take, the observation space (temperature/length)\n",
    "        # actions I can take: down 2, down 1, stay, up 1, up 2\n",
    "        # discrete comes from gym.spaces. This allows me to have 5 values \n",
    "        #(0 - go down two, 1 - go down one, 2 - stay same, 3 - go up one, 4 - go up two)\n",
    "        self.action_space = Discrete(5)\n",
    "        \n",
    "        # Temperature array\n",
    "        # defines where the shower is currently at, which can be used to tweak/produce the reward\n",
    "        # the Box space can also hold n dimensional tensors, dataframes, images, and audio\n",
    "        self.observation_space = Box(low=np.array([np.float64(0)]), high=np.array([np.float64(150)]))\n",
    "        \n",
    "        # setting the start temperature (in fahrenheit)\n",
    "        # I like my showers pretty warm, so it will start within 3 degrees of 90\n",
    "        self.state = 90 + random.randint(-3, 3)\n",
    "        \n",
    "        # shower length in seconds\n",
    "        self.shower_length = 60\n",
    "    \n",
    "    def step(self, action):\n",
    "        # step function runs whenever I take a step in the environment\n",
    "        # Apply action\n",
    "        # action is going to be 0 through 5. Which was defined in the action space. Here I am applying my action to the state\n",
    "        # 0 - 2 = -2 temperature\n",
    "        # 1 - 2 = -1 temperature\n",
    "        # 2 - 2 = 0 temperature\n",
    "        # 3 - 2 = +1 temperature\n",
    "        # 4 - 2 = +2 temperature\n",
    "        self.state += action - 2\n",
    "        \n",
    "        # Reduce shower length by 1 second\n",
    "        self.shower_length -= 1\n",
    "        \n",
    "        # Calculate reward\n",
    "        # if the shower temperature is within the optimal range, then the reward is 1, otherwise it is -1\n",
    "        # the model is going to try to converge so that the temperature is always within this range\n",
    "        if self.state >=87 and self.state <=93:\n",
    "            reward = 1\n",
    "        else:\n",
    "            reward = -1\n",
    "            \n",
    "        # check if shower is done\n",
    "        if self.shower_length <= 0:\n",
    "            done = True\n",
    "        else:\n",
    "            done = False\n",
    "            \n",
    "        # apply temperature noise\n",
    "        # this will serve to fluctuate the temperature up and down, which is also what my real shower does\n",
    "        self.state += random.randint(-1, 1)\n",
    "        \n",
    "        # set placeholder for info, required by OpenAI\n",
    "        info = {}\n",
    "        \n",
    "        # return step information\n",
    "        return self.state, reward, done, info\n",
    "    \n",
    "    def render(self):\n",
    "        # could be used for visualizations, not using here since there are no visualizations\n",
    "        pass\n",
    "    \n",
    "    def reset(self):\n",
    "        # where I can reset my environment\n",
    "        # resetting the temperature\n",
    "        self.state = 90 + random.randint(-3, 3)\n",
    "        # resetting the shower length\n",
    "        self.shower_length = 60\n",
    "        return self.state\n",
    "        "
   ]
  },
  {
   "cell_type": "markdown",
   "metadata": {},
   "source": [
    "# Creating a New Instance of the Shower Environment"
   ]
  },
  {
   "cell_type": "code",
   "execution_count": 23,
   "metadata": {},
   "outputs": [
    {
     "name": "stderr",
     "output_type": "stream",
     "text": [
      "C:\\Users\\lhm\\Anaconda3\\envs\\tensorflow-gpu\\lib\\site-packages\\gym\\logger.py:30: UserWarning: \u001b[33mWARN: Box bound precision lowered by casting to float32\u001b[0m\n",
      "  warnings.warn(colorize('%s: %s'%('WARN', msg % args), 'yellow'))\n"
     ]
    }
   ],
   "source": [
    "env = ShowerEnv()"
   ]
  },
  {
   "cell_type": "code",
   "execution_count": 5,
   "metadata": {},
   "outputs": [
    {
     "data": {
      "text/plain": [
       "4"
      ]
     },
     "execution_count": 5,
     "metadata": {},
     "output_type": "execute_result"
    }
   ],
   "source": [
    "# example of the results within the action space\n",
    "env.action_space.sample()"
   ]
  },
  {
   "cell_type": "code",
   "execution_count": 6,
   "metadata": {},
   "outputs": [
    {
     "data": {
      "text/plain": [
       "array([55.723892], dtype=float32)"
      ]
     },
     "execution_count": 6,
     "metadata": {},
     "output_type": "execute_result"
    }
   ],
   "source": [
    "# example of the observation space\n",
    "env.observation_space.sample()"
   ]
  },
  {
   "cell_type": "markdown",
   "metadata": {},
   "source": [
    "# 10 Sample Episodes Where the Actions are Randomly Sampled\n",
    "If the action_space is sampled randomly over and over, what do the scores look like over the course of 10 episodes? Here, I can see that sometimes the model does alright, and gets a positive score. Other times, the model gets the lowest score possible of -60."
   ]
  },
  {
   "cell_type": "code",
   "execution_count": 7,
   "metadata": {},
   "outputs": [
    {
     "name": "stdout",
     "output_type": "stream",
     "text": [
      "Episode:1 Score:-30\n",
      "Episode:2 Score:-42\n",
      "Episode:3 Score:-60\n",
      "Episode:4 Score:-8\n",
      "Episode:5 Score:2\n",
      "Episode:6 Score:-44\n",
      "Episode:7 Score:2\n",
      "Episode:8 Score:-42\n",
      "Episode:9 Score:-18\n",
      "Episode:10 Score:14\n"
     ]
    }
   ],
   "source": [
    "episodes = 10\n",
    "for episode in range(1, episodes+1):\n",
    "    state = env.reset()\n",
    "    done = False\n",
    "    score = 0\n",
    "    \n",
    "    while not done:\n",
    "        action = env.action_space.sample()\n",
    "        n_state, reward, done, info = env.step(action)\n",
    "        score+= reward\n",
    "    print('Episode:{} Score:{}'.format(episode, score))"
   ]
  },
  {
   "cell_type": "markdown",
   "metadata": {},
   "source": [
    "# Create a Deep Learning Model with Keras\n",
    "I'm going to write a function to build a Sequential DNN model. The input_shape of the first layer will be a single number which represents the observation space. The output of the model will contain 5 neurons since there are 5 actions that the RL model can take."
   ]
  },
  {
   "cell_type": "code",
   "execution_count": 8,
   "metadata": {},
   "outputs": [],
   "source": [
    "import numpy as np\n",
    "from tensorflow.keras.models import Sequential\n",
    "from tensorflow.keras.layers import Dense, Flatten\n",
    "from tensorflow.keras.optimizers import Adam"
   ]
  },
  {
   "cell_type": "code",
   "execution_count": 9,
   "metadata": {},
   "outputs": [],
   "source": [
    "# the shape of the states (1 value)\n",
    "states = env.observation_space.shape\n",
    "# number of actions that I have \n",
    "actions = env.action_space.n"
   ]
  },
  {
   "cell_type": "code",
   "execution_count": 10,
   "metadata": {},
   "outputs": [],
   "source": [
    "def build_model(states, actions):\n",
    "    model = Sequential()\n",
    "    model.add(Dense(24, activation='relu', input_shape=states))\n",
    "    model.add(Dense(24, activation='relu'))\n",
    "    model.add(Dense(actions, activation='linear'))\n",
    "    return model"
   ]
  },
  {
   "cell_type": "code",
   "execution_count": 17,
   "metadata": {},
   "outputs": [],
   "source": [
    "model = build_model(states, actions)"
   ]
  },
  {
   "cell_type": "code",
   "execution_count": 18,
   "metadata": {},
   "outputs": [
    {
     "name": "stdout",
     "output_type": "stream",
     "text": [
      "Model: \"sequential_1\"\n",
      "_________________________________________________________________\n",
      "Layer (type)                 Output Shape              Param #   \n",
      "=================================================================\n",
      "dense_3 (Dense)              (None, 24)                48        \n",
      "_________________________________________________________________\n",
      "dense_4 (Dense)              (None, 24)                600       \n",
      "_________________________________________________________________\n",
      "dense_5 (Dense)              (None, 5)                 125       \n",
      "=================================================================\n",
      "Total params: 773\n",
      "Trainable params: 773\n",
      "Non-trainable params: 0\n",
      "_________________________________________________________________\n"
     ]
    }
   ],
   "source": [
    "# the model takes in the temperature as input and it will produce 3 different actions, (0, 1, 2)\n",
    "model.summary()"
   ]
  },
  {
   "cell_type": "markdown",
   "metadata": {},
   "source": [
    "# Build Agent with Keras-RL\n",
    "There are many different agents within the Keras-RL environment such as DQNAgent, NAFAgent, DDPGAgent, SARSAAgent, and CEMAgent. There are also different styles of RL models such as policy based rl and value based rl.\n",
    "\n",
    "For this project, I'm going to use the DQNAgent with a BoltzmannQPolicy (policy based rl). A DQN Agent is a value-based reinforcement learning agent that trains a critic to estimate the return or future rewards. DQN is a variant of Q-learning, and it operates only within discrete action spaces. Finally, the DQNAgent is going to need some memory, which will be accomplished with SequentialMemory.\n",
    "\n",
    "Here is the link to learn more about keras-rl: https://keras-rl.readthedocs.io/en/latest/"
   ]
  },
  {
   "cell_type": "code",
   "execution_count": 26,
   "metadata": {},
   "outputs": [],
   "source": [
    "from rl.agents import DQNAgent\n",
    "from rl.policy import BoltzmannQPolicy\n",
    "from rl.memory import SequentialMemory"
   ]
  },
  {
   "cell_type": "code",
   "execution_count": 20,
   "metadata": {},
   "outputs": [],
   "source": [
    "# pass in the model and the actions I can take in the environment\n",
    "def build_agent(model, actions):\n",
    "    # set up the policy\n",
    "    policy = BoltzmannQPolicy()\n",
    "    # set up the memory\n",
    "    memory = SequentialMemory(limit=50000, window_length=1)\n",
    "    # set up DQNAgent and pass in mode, memory, policy \n",
    "    dqn = DQNAgent(model=model, memory=memory, policy=policy,\n",
    "                  nb_actions=actions, nb_steps_warmup=10, target_model_update=1e-2)\n",
    "    return dqn"
   ]
  },
  {
   "cell_type": "code",
   "execution_count": 21,
   "metadata": {},
   "outputs": [
    {
     "name": "stdout",
     "output_type": "stream",
     "text": [
      "Training for 50000 steps ...\n",
      "Interval 1 (0 steps performed)\n"
     ]
    },
    {
     "name": "stderr",
     "output_type": "stream",
     "text": [
      "C:\\Users\\lhm\\AppData\\Roaming\\Python\\Python38\\site-packages\\tensorflow\\python\\keras\\engine\\training.py:2325: UserWarning: `Model.state_updates` will be removed in a future version. This property should not be used in TensorFlow 2.0, as `updates` are applied automatically.\n",
      "  warnings.warn('`Model.state_updates` will be removed in a future version. '\n"
     ]
    },
    {
     "name": "stdout",
     "output_type": "stream",
     "text": [
      "\r",
      "    1/10000 [..............................] - ETA: 1:20:55 - reward: 1.0000"
     ]
    },
    {
     "name": "stderr",
     "output_type": "stream",
     "text": [
      "C:\\Users\\lhm\\Anaconda3\\envs\\tensorflow-gpu\\lib\\site-packages\\rl\\memory.py:40: UserWarning: Not enough entries to sample without replacement. Consider increasing your warm-up phase to avoid oversampling!\n",
      "  warnings.warn('Not enough entries to sample without replacement. Consider increasing your warm-up phase to avoid oversampling!')\n"
     ]
    },
    {
     "name": "stdout",
     "output_type": "stream",
     "text": [
      "10000/10000 [==============================] - 89s 9ms/step - reward: -0.3250\n",
      "166 episodes - episode_reward: -19.602 [-60.000, 44.000] - loss: 0.628 - mae: 4.243 - mean_q: -3.558\n",
      "\n",
      "Interval 2 (10000 steps performed)\n",
      "10000/10000 [==============================] - 89s 9ms/step - reward: -0.2898\n",
      "167 episodes - episode_reward: -17.246 [-60.000, 54.000] - loss: 0.765 - mae: 5.434 - mean_q: -6.311\n",
      "\n",
      "Interval 3 (20000 steps performed)\n",
      "10000/10000 [==============================] - 90s 9ms/step - reward: -0.2428\n",
      "167 episodes - episode_reward: -14.623 [-60.000, 48.000] - loss: 0.784 - mae: 5.666 - mean_q: -6.661\n",
      "\n",
      "Interval 4 (30000 steps performed)\n",
      "10000/10000 [==============================] - 91s 9ms/step - reward: -0.1640\n",
      "166 episodes - episode_reward: -9.687 [-58.000, 56.000] - loss: 0.691 - mae: 4.593 - mean_q: -5.294\n",
      "\n",
      "Interval 5 (40000 steps performed)\n",
      "10000/10000 [==============================] - 92s 9ms/step - reward: 0.2424\n",
      "done, took 451.955 seconds\n"
     ]
    },
    {
     "data": {
      "text/plain": [
       "<tensorflow.python.keras.callbacks.History at 0x278384d8760>"
      ]
     },
     "execution_count": 21,
     "metadata": {},
     "output_type": "execute_result"
    }
   ],
   "source": [
    "# instantiating\n",
    "dqn = build_agent(model, actions)\n",
    "# compiling\n",
    "dqn.compile(Adam(lr=1e-3), metrics=['mae'])\n",
    "# fitting\n",
    "dqn.fit(env, nb_steps=50000, visualize=False, verbose = 1)"
   ]
  },
  {
   "cell_type": "code",
   "execution_count": 73,
   "metadata": {},
   "outputs": [
    {
     "name": "stdout",
     "output_type": "stream",
     "text": [
      "Testing for 100 episodes ...\n",
      "Episode 1: reward: -50.000, steps: 60\n",
      "Episode 2: reward: -58.000, steps: 60\n",
      "Episode 3: reward: -56.000, steps: 60\n",
      "Episode 4: reward: -54.000, steps: 60\n",
      "Episode 5: reward: -60.000, steps: 60\n",
      "Episode 6: reward: -54.000, steps: 60\n",
      "Episode 7: reward: -58.000, steps: 60\n",
      "Episode 8: reward: -56.000, steps: 60\n",
      "Episode 9: reward: -58.000, steps: 60\n",
      "Episode 10: reward: -56.000, steps: 60\n",
      "Episode 11: reward: -60.000, steps: 60\n",
      "Episode 12: reward: -60.000, steps: 60\n",
      "Episode 13: reward: -56.000, steps: 60\n",
      "Episode 14: reward: -56.000, steps: 60\n",
      "Episode 15: reward: -56.000, steps: 60\n",
      "Episode 16: reward: -60.000, steps: 60\n",
      "Episode 17: reward: -58.000, steps: 60\n",
      "Episode 18: reward: -56.000, steps: 60\n",
      "Episode 19: reward: -58.000, steps: 60\n",
      "Episode 20: reward: -58.000, steps: 60\n",
      "Episode 21: reward: -54.000, steps: 60\n",
      "Episode 22: reward: -54.000, steps: 60\n",
      "Episode 23: reward: -52.000, steps: 60\n",
      "Episode 24: reward: -58.000, steps: 60\n",
      "Episode 25: reward: -60.000, steps: 60\n",
      "Episode 26: reward: -50.000, steps: 60\n",
      "Episode 27: reward: -56.000, steps: 60\n",
      "Episode 28: reward: -60.000, steps: 60\n",
      "Episode 29: reward: -52.000, steps: 60\n",
      "Episode 30: reward: -60.000, steps: 60\n",
      "Episode 31: reward: -58.000, steps: 60\n",
      "Episode 32: reward: -56.000, steps: 60\n",
      "Episode 33: reward: -54.000, steps: 60\n",
      "Episode 34: reward: -60.000, steps: 60\n",
      "Episode 35: reward: -56.000, steps: 60\n",
      "Episode 36: reward: -60.000, steps: 60\n",
      "Episode 37: reward: -60.000, steps: 60\n",
      "Episode 38: reward: -58.000, steps: 60\n",
      "Episode 39: reward: -60.000, steps: 60\n",
      "Episode 40: reward: -58.000, steps: 60\n",
      "Episode 41: reward: -58.000, steps: 60\n",
      "Episode 42: reward: -56.000, steps: 60\n",
      "Episode 43: reward: -54.000, steps: 60\n",
      "Episode 44: reward: -60.000, steps: 60\n",
      "Episode 45: reward: -56.000, steps: 60\n",
      "Episode 46: reward: -60.000, steps: 60\n",
      "Episode 47: reward: -58.000, steps: 60\n",
      "Episode 48: reward: -58.000, steps: 60\n",
      "Episode 49: reward: -54.000, steps: 60\n",
      "Episode 50: reward: -60.000, steps: 60\n",
      "Episode 51: reward: -54.000, steps: 60\n",
      "Episode 52: reward: -56.000, steps: 60\n",
      "Episode 53: reward: -58.000, steps: 60\n",
      "Episode 54: reward: -54.000, steps: 60\n",
      "Episode 55: reward: -56.000, steps: 60\n",
      "Episode 56: reward: -56.000, steps: 60\n",
      "Episode 57: reward: -60.000, steps: 60\n",
      "Episode 58: reward: -54.000, steps: 60\n",
      "Episode 59: reward: -56.000, steps: 60\n",
      "Episode 60: reward: -56.000, steps: 60\n",
      "Episode 61: reward: -60.000, steps: 60\n",
      "Episode 62: reward: -56.000, steps: 60\n",
      "Episode 63: reward: -58.000, steps: 60\n",
      "Episode 64: reward: -56.000, steps: 60\n",
      "Episode 65: reward: -60.000, steps: 60\n",
      "Episode 66: reward: -58.000, steps: 60\n",
      "Episode 67: reward: -56.000, steps: 60\n",
      "Episode 68: reward: -58.000, steps: 60\n",
      "Episode 69: reward: -58.000, steps: 60\n",
      "Episode 70: reward: -56.000, steps: 60\n",
      "Episode 71: reward: -56.000, steps: 60\n",
      "Episode 72: reward: -60.000, steps: 60\n",
      "Episode 73: reward: -56.000, steps: 60\n",
      "Episode 74: reward: -54.000, steps: 60\n",
      "Episode 75: reward: -58.000, steps: 60\n",
      "Episode 76: reward: -58.000, steps: 60\n",
      "Episode 77: reward: -58.000, steps: 60\n",
      "Episode 78: reward: -56.000, steps: 60\n",
      "Episode 79: reward: -58.000, steps: 60\n",
      "Episode 80: reward: -58.000, steps: 60\n",
      "Episode 81: reward: -54.000, steps: 60\n",
      "Episode 82: reward: -58.000, steps: 60\n",
      "Episode 83: reward: -56.000, steps: 60\n",
      "Episode 84: reward: -56.000, steps: 60\n",
      "Episode 85: reward: -54.000, steps: 60\n",
      "Episode 86: reward: -58.000, steps: 60\n",
      "Episode 87: reward: -60.000, steps: 60\n",
      "Episode 88: reward: -58.000, steps: 60\n",
      "Episode 89: reward: -58.000, steps: 60\n",
      "Episode 90: reward: -56.000, steps: 60\n",
      "Episode 91: reward: -56.000, steps: 60\n",
      "Episode 92: reward: -58.000, steps: 60\n",
      "Episode 93: reward: -60.000, steps: 60\n",
      "Episode 94: reward: -56.000, steps: 60\n",
      "Episode 95: reward: -54.000, steps: 60\n",
      "Episode 96: reward: -58.000, steps: 60\n",
      "Episode 97: reward: -58.000, steps: 60\n",
      "Episode 98: reward: -60.000, steps: 60\n",
      "Episode 99: reward: -54.000, steps: 60\n",
      "Episode 100: reward: -60.000, steps: 60\n",
      "-56.98\n"
     ]
    }
   ],
   "source": [
    "# testing the dqn on the custom environment\n",
    "scores = dqn.test(env, nb_episodes=100, visualize=False)\n",
    "print(np.mean(scores.history['episode_reward']))"
   ]
  },
  {
   "cell_type": "code",
   "execution_count": null,
   "metadata": {},
   "outputs": [],
   "source": []
  }
 ],
 "metadata": {
  "kernelspec": {
   "display_name": "Python 3",
   "language": "python",
   "name": "python3"
  },
  "language_info": {
   "codemirror_mode": {
    "name": "ipython",
    "version": 3
   },
   "file_extension": ".py",
   "mimetype": "text/x-python",
   "name": "python",
   "nbconvert_exporter": "python",
   "pygments_lexer": "ipython3",
   "version": "3.8.5"
  }
 },
 "nbformat": 4,
 "nbformat_minor": 4
}
