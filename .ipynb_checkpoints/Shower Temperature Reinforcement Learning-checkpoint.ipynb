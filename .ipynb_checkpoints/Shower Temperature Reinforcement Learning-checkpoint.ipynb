{
 "cells": [
  {
   "cell_type": "code",
   "execution_count": 1,
   "metadata": {},
   "outputs": [
    {
     "data": {
      "text/plain": [
       "array([-0.01122352,  0.01184797, -0.03377219,  0.00175344])"
      ]
     },
     "execution_count": 1,
     "metadata": {},
     "output_type": "execute_result"
    }
   ],
   "source": [
    "import gym\n",
    "env=gym.make(\"CartPole-v1\")\n",
    "obs= env.reset()\n",
    "obs"
   ]
  },
  {
   "cell_type": "code",
   "execution_count": 2,
   "metadata": {},
   "outputs": [
    {
     "data": {
      "text/plain": [
       "True"
      ]
     },
     "execution_count": 2,
     "metadata": {},
     "output_type": "execute_result"
    }
   ],
   "source": [
    "env.render()"
   ]
  },
  {
   "cell_type": "code",
   "execution_count": null,
   "metadata": {},
   "outputs": [],
   "source": []
  },
  {
   "cell_type": "code",
   "execution_count": 1,
   "metadata": {},
   "outputs": [],
   "source": [
    "from gym import Env # allows me to build a custom environment\n",
    "from gym.spaces import Discrete, Box # allows me to define the actions to take in the environment and current state\n",
    "import numpy as np\n",
    "import random"
   ]
  },
  {
   "cell_type": "markdown",
   "metadata": {},
   "source": [
    "The 4 things that are needed in every reinforcment learning model are: Action, Reward, Environment, Agent"
   ]
  },
  {
   "cell_type": "code",
   "execution_count": 2,
   "metadata": {},
   "outputs": [],
   "source": [
    "# first initialization function that gets run automatically when I create a new instance of my function\n",
    "# step function runs whenever I take a step in the environment\n",
    "# render - not really needed since I\"m not going to be rendering anything\n",
    "# reset allows me to reset my environment"
   ]
  },
  {
   "cell_type": "code",
   "execution_count": 59,
   "metadata": {},
   "outputs": [],
   "source": [
    "class ShowerEnv(Env):\n",
    "    def __init__(self):\n",
    "        # initializing actions I can take, the observation space (temperature/length)\n",
    "        # actions I can take: down 2, down 1, stay, up 1, up 2\n",
    "        # discrete comes from gym.spaces. This allows me to have 5 values \n",
    "        #(0 - go down two, 1 - go down one, 2 - stay same, 3 - go up one, 4 - go up two)\n",
    "        self.action_space = Discrete(5)\n",
    "        \n",
    "        # Temperature array\n",
    "        # defines where the shower is currently at, which can be used to tweak/produce the reward\n",
    "        # the Box space can also hold n dimensional tensors, dataframes, images, and audio\n",
    "        self.observation_space = Box(low=np.array([np.float64(0)]), high=np.array([np.float64(150)]))\n",
    "        \n",
    "        # setting the start temperature (in fahrenheit)\n",
    "        # I like my showers pretty warm, so it will start within 3 degrees of 90\n",
    "        self.state = 90 + random.randint(-3, 3)\n",
    "        \n",
    "        # shower length in seconds\n",
    "        self.shower_length = 60\n",
    "    def step(self, action):\n",
    "        # defines what happens whenver a step is taken\n",
    "        # Apply action\n",
    "        # action is going to be 0, 1, or 2. Which was defined in the action space. Here I am applying my action to the state\n",
    "        # 0 - 2 = -2 temperature\n",
    "        # 1 - 2 = -1 temperature\n",
    "        # 2 - 2 = 0 temperature\n",
    "        # 3 - 2 = +1 temperature\n",
    "        # 4 - 2 = +2 temperature\n",
    "        self.state += action - 2\n",
    "        \n",
    "        # Reduce shower length by 1 second\n",
    "        self.shower_length -= 1\n",
    "        \n",
    "        # Calculate reward\n",
    "        # if the shower temperature is within the optimal range, then the reward is 1, otherwise it is -1\n",
    "        # the model is going to try to converge so that the temperature is always within this range\n",
    "        if self.state >=87 and self.state <=93:\n",
    "            reward = 1\n",
    "        else:\n",
    "            reward = -1\n",
    "            \n",
    "        # check if shower is done\n",
    "        if self.shower_length <= 0:\n",
    "            done = True\n",
    "        else:\n",
    "            done = False\n",
    "            \n",
    "        # apply temperature noise\n",
    "        # this will serve to fluctuate the temperature up and down, which is also what my real shower does\n",
    "        self.state += random.randint(-1, 1)\n",
    "        # every 5 seconds, there will be a potentially larger fluctuation, to simulate the real world\n",
    "        # when the toilet flushes and suddenly the shower gets much colder or hotter\n",
    "        if self.shower_length % 5 == 0:\n",
    "            self.state += 3 * random.randint(-1, 1)\n",
    "        \n",
    "        # set placeholder for info, required by OpenAI\n",
    "        info = {}\n",
    "        \n",
    "        # return step information\n",
    "        return self.state, reward, done, info\n",
    "    def render(self):\n",
    "        # could be used for visualizations, not using here since there are no visualizations\n",
    "        pass\n",
    "    def reset(self):\n",
    "        # where I can reset my environment\n",
    "        # resetting the temperature\n",
    "        self.state = 90 + random.randint(-3, 3)\n",
    "        # resetting the shower length\n",
    "        self.shower_length = 60\n",
    "        return self.state\n",
    "        "
   ]
  },
  {
   "cell_type": "code",
   "execution_count": 60,
   "metadata": {},
   "outputs": [],
   "source": [
    "# testing it out by creating a new instance of the shower environment\n",
    "env = ShowerEnv()"
   ]
  },
  {
   "cell_type": "code",
   "execution_count": 61,
   "metadata": {},
   "outputs": [
    {
     "data": {
      "text/plain": [
       "2"
      ]
     },
     "execution_count": 61,
     "metadata": {},
     "output_type": "execute_result"
    }
   ],
   "source": [
    "# example of the results within the action space\n",
    "env.action_space.sample()"
   ]
  },
  {
   "cell_type": "code",
   "execution_count": 62,
   "metadata": {},
   "outputs": [
    {
     "data": {
      "text/plain": [
       "array([26.445942], dtype=float32)"
      ]
     },
     "execution_count": 62,
     "metadata": {},
     "output_type": "execute_result"
    }
   ],
   "source": [
    "# example of the observation space\n",
    "env.observation_space.sample()"
   ]
  },
  {
   "cell_type": "code",
   "execution_count": 64,
   "metadata": {},
   "outputs": [
    {
     "name": "stdout",
     "output_type": "stream",
     "text": [
      "Episode:1 Score:-40\n",
      "Episode:2 Score:2\n",
      "Episode:3 Score:-36\n",
      "Episode:4 Score:-24\n",
      "Episode:5 Score:-40\n",
      "Episode:6 Score:-24\n",
      "Episode:7 Score:-44\n",
      "Episode:8 Score:16\n",
      "Episode:9 Score:-50\n",
      "Episode:10 Score:-46\n"
     ]
    }
   ],
   "source": [
    "episodes = 10\n",
    "for episode in range(1, episodes+1):\n",
    "    state = env.reset()\n",
    "    done = False\n",
    "    score = 0\n",
    "    \n",
    "    while not done:\n",
    "        action = env.action_space.sample()\n",
    "        n_state, reward, done, info = env.step(action)\n",
    "        score+= reward\n",
    "    print('Episode:{} Score:{}'.format(episode, score))"
   ]
  },
  {
   "cell_type": "markdown",
   "metadata": {},
   "source": [
    "## Create a Deep Learning Model with Keras"
   ]
  },
  {
   "cell_type": "code",
   "execution_count": 65,
   "metadata": {},
   "outputs": [],
   "source": [
    "import numpy as np\n",
    "from tensorflow.keras.models import Sequential\n",
    "from tensorflow.keras.layers import Dense, Flatten\n",
    "from tensorflow.keras.optimizers import Adam"
   ]
  },
  {
   "cell_type": "code",
   "execution_count": 66,
   "metadata": {},
   "outputs": [],
   "source": [
    "# the shape of the states (1 value)\n",
    "states = env.observation_space.shape\n",
    "# number of actions that I have \n",
    "actions = env.action_space.n"
   ]
  },
  {
   "cell_type": "code",
   "execution_count": 67,
   "metadata": {},
   "outputs": [],
   "source": [
    "def build_model(states, actions):\n",
    "    model = Sequential()\n",
    "    model.add(Dense(24, activation='relu', input_shape=states))\n",
    "    model.add(Dense(24, activation='relu'))\n",
    "    model.add(Dense(actions, activation='linear'))\n",
    "    return model"
   ]
  },
  {
   "cell_type": "code",
   "execution_count": 68,
   "metadata": {},
   "outputs": [],
   "source": [
    "model = build_model(states, actions)"
   ]
  },
  {
   "cell_type": "code",
   "execution_count": 69,
   "metadata": {},
   "outputs": [
    {
     "name": "stdout",
     "output_type": "stream",
     "text": [
      "Model: \"sequential_3\"\n",
      "_________________________________________________________________\n",
      "Layer (type)                 Output Shape              Param #   \n",
      "=================================================================\n",
      "dense_9 (Dense)              (None, 24)                48        \n",
      "_________________________________________________________________\n",
      "dense_10 (Dense)             (None, 24)                600       \n",
      "_________________________________________________________________\n",
      "dense_11 (Dense)             (None, 5)                 125       \n",
      "=================================================================\n",
      "Total params: 773\n",
      "Trainable params: 773\n",
      "Non-trainable params: 0\n",
      "_________________________________________________________________\n"
     ]
    }
   ],
   "source": [
    "# the model takes in the temperature as input and it will produce 3 different actions, (0, 1, 2)\n",
    "model.summary()"
   ]
  },
  {
   "cell_type": "markdown",
   "metadata": {},
   "source": [
    "## Build Agent with Keras-RL"
   ]
  },
  {
   "cell_type": "code",
   "execution_count": 70,
   "metadata": {},
   "outputs": [],
   "source": [
    "# there are a bunch of different agents within the keras rl environment: DQNAgent, NAFAgent, DDPGAgent, SARSAAgent, CEMAgent\n",
    "# these are all different agents that I can use to train my rl model\n",
    "# https://keras-rl.readthedocs.io/en/latest/\n",
    "from rl.agents import DQNAgent\n",
    "# there are different styles: value based rl and policy based rl. Here I am going to use policy based\n",
    "from rl.policy import BoltzmannQPolicy\n",
    "# for the dqn agent I am going to need to maintain some memory. This class allows me to do that\n",
    "from rl.memory import SequentialMemory"
   ]
  },
  {
   "cell_type": "code",
   "execution_count": 71,
   "metadata": {},
   "outputs": [],
   "source": [
    "# pass in the model and the actions I can take in the environment\n",
    "def build_agent(model, actions):\n",
    "    # set up the policy\n",
    "    policy = BoltzmannQPolicy()\n",
    "    # set up the memory\n",
    "    memory = SequentialMemory(limit=50000, window_length=1)\n",
    "    # set up DQNAgent and pass in mode, memory, policy \n",
    "    dqn = DQNAgent(model=model, memory=memory, policy=policy,\n",
    "                  nb_actions=actions, nb_steps_warmup=10, target_model_update=1e-2)\n",
    "    return dqn"
   ]
  },
  {
   "cell_type": "code",
   "execution_count": null,
   "metadata": {},
   "outputs": [
    {
     "name": "stdout",
     "output_type": "stream",
     "text": [
      "Training for 50000 steps ...\n",
      "Interval 1 (0 steps performed)\n",
      "10000/10000 [==============================] - 90s 9ms/step - reward: -0.5372\n",
      "166 episodes - episode_reward: -32.265 [-60.000, 26.000] - loss: 4.438 - mae: 6.271 - mean_q: 6.528\n",
      "\n",
      "Interval 2 (10000 steps performed)\n",
      "10000/10000 [==============================] - 91s 9ms/step - reward: -0.3812\n",
      "167 episodes - episode_reward: -23.042 [-60.000, 32.000] - loss: 0.906 - mae: 6.220 - mean_q: -7.163\n",
      "\n",
      "Interval 3 (20000 steps performed)\n",
      "10000/10000 [==============================] - 92s 9ms/step - reward: -0.4022\n",
      "167 episodes - episode_reward: -23.964 [-60.000, 28.000] - loss: 1.020 - mae: 7.211 - mean_q: -8.501\n",
      "\n",
      "Interval 4 (30000 steps performed)\n",
      "  907/10000 [=>............................] - ETA: 1:24 - reward: -0.3958"
     ]
    }
   ],
   "source": [
    "# instantiating\n",
    "dqn = build_agent(model, actions)\n",
    "# compiling\n",
    "dqn.compile(Adam(lr=1e-3), metrics=['mae'])\n",
    "# fitting\n",
    "dqn.fit(env, nb_steps=50000, visualize=False, verbose = 1)"
   ]
  },
  {
   "cell_type": "code",
   "execution_count": 35,
   "metadata": {},
   "outputs": [
    {
     "name": "stdout",
     "output_type": "stream",
     "text": [
      "Testing for 100 episodes ...\n",
      "Episode 1: reward: -42.000, steps: 60\n",
      "Episode 2: reward: -20.000, steps: 60\n",
      "Episode 3: reward: -26.000, steps: 60\n",
      "Episode 4: reward: -22.000, steps: 60\n",
      "Episode 5: reward: -54.000, steps: 60\n",
      "Episode 6: reward: -16.000, steps: 60\n",
      "Episode 7: reward: -58.000, steps: 60\n",
      "Episode 8: reward: -28.000, steps: 60\n",
      "Episode 9: reward: -16.000, steps: 60\n",
      "Episode 10: reward: -34.000, steps: 60\n",
      "Episode 11: reward: -14.000, steps: 60\n",
      "Episode 12: reward: 4.000, steps: 60\n",
      "Episode 13: reward: -14.000, steps: 60\n",
      "Episode 14: reward: -24.000, steps: 60\n",
      "Episode 15: reward: -26.000, steps: 60\n",
      "Episode 16: reward: -44.000, steps: 60\n",
      "Episode 17: reward: 14.000, steps: 60\n",
      "Episode 18: reward: 10.000, steps: 60\n",
      "Episode 19: reward: -60.000, steps: 60\n",
      "Episode 20: reward: -48.000, steps: 60\n",
      "Episode 21: reward: -60.000, steps: 60\n",
      "Episode 22: reward: -42.000, steps: 60\n",
      "Episode 23: reward: -48.000, steps: 60\n",
      "Episode 24: reward: -60.000, steps: 60\n",
      "Episode 25: reward: -22.000, steps: 60\n",
      "Episode 26: reward: 2.000, steps: 60\n",
      "Episode 27: reward: -40.000, steps: 60\n",
      "Episode 28: reward: -52.000, steps: 60\n",
      "Episode 29: reward: -60.000, steps: 60\n",
      "Episode 30: reward: 12.000, steps: 60\n",
      "Episode 31: reward: -56.000, steps: 60\n",
      "Episode 32: reward: -56.000, steps: 60\n",
      "Episode 33: reward: -10.000, steps: 60\n",
      "Episode 34: reward: -10.000, steps: 60\n",
      "Episode 35: reward: -36.000, steps: 60\n",
      "Episode 36: reward: -50.000, steps: 60\n",
      "Episode 37: reward: -46.000, steps: 60\n",
      "Episode 38: reward: -28.000, steps: 60\n",
      "Episode 39: reward: -52.000, steps: 60\n",
      "Episode 40: reward: 0.000, steps: 60\n",
      "Episode 41: reward: 4.000, steps: 60\n",
      "Episode 42: reward: -26.000, steps: 60\n",
      "Episode 43: reward: -60.000, steps: 60\n",
      "Episode 44: reward: -46.000, steps: 60\n",
      "Episode 45: reward: -60.000, steps: 60\n",
      "Episode 46: reward: -58.000, steps: 60\n",
      "Episode 47: reward: -26.000, steps: 60\n",
      "Episode 48: reward: -32.000, steps: 60\n",
      "Episode 49: reward: -18.000, steps: 60\n",
      "Episode 50: reward: -32.000, steps: 60\n",
      "Episode 51: reward: -6.000, steps: 60\n",
      "Episode 52: reward: -4.000, steps: 60\n",
      "Episode 53: reward: 16.000, steps: 60\n",
      "Episode 54: reward: -42.000, steps: 60\n",
      "Episode 55: reward: -10.000, steps: 60\n",
      "Episode 56: reward: -8.000, steps: 60\n",
      "Episode 57: reward: -34.000, steps: 60\n",
      "Episode 58: reward: -48.000, steps: 60\n",
      "Episode 59: reward: -16.000, steps: 60\n",
      "Episode 60: reward: -52.000, steps: 60\n",
      "Episode 61: reward: -60.000, steps: 60\n",
      "Episode 62: reward: -30.000, steps: 60\n",
      "Episode 63: reward: -60.000, steps: 60\n",
      "Episode 64: reward: -58.000, steps: 60\n",
      "Episode 65: reward: -24.000, steps: 60\n",
      "Episode 66: reward: -26.000, steps: 60\n",
      "Episode 67: reward: -42.000, steps: 60\n",
      "Episode 68: reward: -16.000, steps: 60\n",
      "Episode 69: reward: -10.000, steps: 60\n",
      "Episode 70: reward: -28.000, steps: 60\n",
      "Episode 71: reward: -50.000, steps: 60\n",
      "Episode 72: reward: -44.000, steps: 60\n",
      "Episode 73: reward: -38.000, steps: 60\n",
      "Episode 74: reward: -2.000, steps: 60\n",
      "Episode 75: reward: 2.000, steps: 60\n",
      "Episode 76: reward: -58.000, steps: 60\n",
      "Episode 77: reward: -14.000, steps: 60\n",
      "Episode 78: reward: -50.000, steps: 60\n",
      "Episode 79: reward: -26.000, steps: 60\n",
      "Episode 80: reward: -10.000, steps: 60\n",
      "Episode 81: reward: -52.000, steps: 60\n",
      "Episode 82: reward: -24.000, steps: 60\n",
      "Episode 83: reward: -28.000, steps: 60\n",
      "Episode 84: reward: -8.000, steps: 60\n",
      "Episode 85: reward: -46.000, steps: 60\n",
      "Episode 86: reward: -32.000, steps: 60\n",
      "Episode 87: reward: -44.000, steps: 60\n",
      "Episode 88: reward: -34.000, steps: 60\n",
      "Episode 89: reward: -10.000, steps: 60\n",
      "Episode 90: reward: -24.000, steps: 60\n",
      "Episode 91: reward: -32.000, steps: 60\n",
      "Episode 92: reward: -60.000, steps: 60\n",
      "Episode 93: reward: -18.000, steps: 60\n",
      "Episode 94: reward: -30.000, steps: 60\n",
      "Episode 95: reward: -40.000, steps: 60\n",
      "Episode 96: reward: 16.000, steps: 60\n",
      "Episode 97: reward: -60.000, steps: 60\n",
      "Episode 98: reward: -50.000, steps: 60\n",
      "Episode 99: reward: -18.000, steps: 60\n",
      "Episode 100: reward: -50.000, steps: 60\n",
      "-30.78\n"
     ]
    }
   ],
   "source": [
    "# testing the dqn on the custom environment\n",
    "scores = dqn.test(env, nb_episodes=100, visualize=False)\n",
    "print(np.mean(scores.history['episode_reward']))"
   ]
  },
  {
   "cell_type": "code",
   "execution_count": null,
   "metadata": {},
   "outputs": [],
   "source": []
  }
 ],
 "metadata": {
  "kernelspec": {
   "display_name": "Python 3",
   "language": "python",
   "name": "python3"
  },
  "language_info": {
   "codemirror_mode": {
    "name": "ipython",
    "version": 3
   },
   "file_extension": ".py",
   "mimetype": "text/x-python",
   "name": "python",
   "nbconvert_exporter": "python",
   "pygments_lexer": "ipython3",
   "version": "3.8.5"
  }
 },
 "nbformat": 4,
 "nbformat_minor": 4
}
